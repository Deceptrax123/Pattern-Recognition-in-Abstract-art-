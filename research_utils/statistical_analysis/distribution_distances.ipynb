{
 "cells": [
  {
   "cell_type": "code",
   "execution_count": 43,
   "metadata": {},
   "outputs": [],
   "source": [
    "import numpy as np \n",
    "import torch \n",
    "from generator import Generator\n",
    "from sklearn.metrics.pairwise import pairwise_distances\n",
    "from sklearn.metrics import mean_absolute_error,mean_absolute_percentage_error,mean_squared_error"
   ]
  },
  {
   "cell_type": "code",
   "execution_count": 28,
   "metadata": {},
   "outputs": [],
   "source": [
    "device=torch.device('mps')\n",
    "\n",
    "model=Generator().to(device=device)\n",
    "\n",
    "model.eval()\n",
    "model.load_state_dict(torch.load(\"models/abstract_art/resized/generator/stable/generator250.pth\"))\n",
    "\n",
    "z1=torch.randn((1,100)).to(device=device) #noise\n",
    "z2=torch.randn((1,100)).to(device=device) #noise\n",
    "z3=torch.randn((1,100)).to(device=device) #noise\n",
    "\n",
    "z4=torch.randn((1,100)).to(device=device) #noise\n",
    "z5=torch.randn((1,100)).to(device=device) #noise\n",
    "z6=torch.randn((1,100)).to(device=device) #noise\n",
    "\n",
    "vec1=model(z1)\n",
    "vec2=model(z2) \n",
    "vec3=model(z3)\n",
    "vec4=model(z4)\n",
    "vec5=model(z5)\n",
    "\n",
    "vec1=vec1.to(device='cpu')\n",
    "vec1=vec1.detach().numpy()\n",
    "vec1=np.round((vec1+1)*255)//2\n",
    "\n",
    "vec2=vec2.to(device='cpu')\n",
    "vec2=vec2.detach().numpy()\n",
    "vec2=np.round((vec2+1)*255)//2\n",
    "\n",
    "\n",
    "vec3=vec3.to(device='cpu')\n",
    "vec3=vec3.detach().numpy()\n",
    "vec3=np.round((vec3+1)*255)//2\n",
    "\n",
    "\n",
    "vec4=vec4.to(device='cpu')\n",
    "vec4=vec4.detach().numpy()\n",
    "vec4=np.round((vec4+1)*255)//2\n",
    "\n",
    "\n",
    "vec5=vec5.to(device='cpu')\n",
    "vec5=vec5.detach().numpy()\n",
    "vec5=np.round((vec5+1)*255)//2\n",
    "\n",
    "vec_stable=(vec1+vec2+vec3+vec4+vec5)/5\n",
    "\n",
    "\n"
   ]
  },
  {
   "cell_type": "code",
   "execution_count": 29,
   "metadata": {},
   "outputs": [],
   "source": [
    "device=torch.device('mps')\n",
    "\n",
    "model=Generator().to(device=device)\n",
    "\n",
    "model.eval()\n",
    "model.load_state_dict(torch.load(\"models/abstract_art/resized/generator/stable/generator250.pth\"))\n",
    "\n",
    "z1=torch.randn((1,100)).to(device=device) #noise\n",
    "z2=torch.randn((1,100)).to(device=device) #noise\n",
    "z3=torch.randn((1,100)).to(device=device) #noise\n",
    "\n",
    "z4=torch.randn((1,100)).to(device=device) #noise\n",
    "z5=torch.randn((1,100)).to(device=device) #noise\n",
    "z6=torch.randn((1,100)).to(device=device) #noise\n",
    "\n",
    "vec1=model(z1)\n",
    "vec2=model(z2) \n",
    "vec3=model(z3)\n",
    "vec4=model(z4)\n",
    "vec5=model(z5)\n",
    "\n",
    "vec1=vec1.to(device='cpu')\n",
    "vec1=vec1.detach().numpy()\n",
    "vec1=np.round((vec1+1)*255)//2\n",
    "\n",
    "vec2=vec2.to(device='cpu')\n",
    "vec2=vec2.detach().numpy()\n",
    "vec2=np.round((vec2+1)*255)//2\n",
    "\n",
    "\n",
    "vec3=vec3.to(device='cpu')\n",
    "vec3=vec3.detach().numpy()\n",
    "vec3=np.round((vec3+1)*255)//2\n",
    "\n",
    "\n",
    "vec4=vec4.to(device='cpu')\n",
    "vec4=vec4.detach().numpy()\n",
    "vec4=np.round((vec4+1)*255)//2\n",
    "\n",
    "\n",
    "vec5=vec5.to(device='cpu')\n",
    "vec5=vec5.detach().numpy()\n",
    "vec5=np.round((vec5+1)*255)//2\n",
    "\n",
    "vec_unstable=(vec1+vec2+vec3+vec4+vec5)/5\n",
    "\n",
    "\n"
   ]
  },
  {
   "cell_type": "code",
   "execution_count": 30,
   "metadata": {},
   "outputs": [],
   "source": [
    "vec_stable=vec_stable[0]\n",
    "vec_unstable=vec_unstable[0]"
   ]
  },
  {
   "cell_type": "code",
   "execution_count": 60,
   "metadata": {},
   "outputs": [],
   "source": [
    "dist=0\n",
    "for i in range(3):\n",
    "    x=vec_stable[i,:,:]\n",
    "    y=vec_unstable[i,:,:]\n",
    "\n",
    "    dist+=mean_absolute_error(x,y)\n",
    "    "
   ]
  },
  {
   "cell_type": "code",
   "execution_count": 62,
   "metadata": {},
   "outputs": [
    {
     "data": {
      "text/plain": [
       "28.670594533284504"
      ]
     },
     "execution_count": 62,
     "metadata": {},
     "output_type": "execute_result"
    }
   ],
   "source": [
    "dist/3"
   ]
  },
  {
   "cell_type": "code",
   "execution_count": null,
   "metadata": {},
   "outputs": [],
   "source": []
  },
  {
   "cell_type": "code",
   "execution_count": null,
   "metadata": {},
   "outputs": [],
   "source": []
  }
 ],
 "metadata": {
  "kernelspec": {
   "display_name": ".venv",
   "language": "python",
   "name": "python3"
  },
  "language_info": {
   "codemirror_mode": {
    "name": "ipython",
    "version": 3
   },
   "file_extension": ".py",
   "mimetype": "text/x-python",
   "name": "python",
   "nbconvert_exporter": "python",
   "pygments_lexer": "ipython3",
   "version": "3.10.12"
  }
 },
 "nbformat": 4,
 "nbformat_minor": 2
}
