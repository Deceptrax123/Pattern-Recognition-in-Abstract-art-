{
 "cells": [
  {
   "cell_type": "code",
   "execution_count": 3,
   "metadata": {},
   "outputs": [],
   "source": [
    "import scipy as sc\n",
    "import numpy as np \n",
    "from PIL import Image \n",
    "from skimage.metrics import peak_signal_noise_ratio,mean_squared_error,normalized_root_mse\n",
    "from sklearn.metrics import mean_absolute_error\n",
    "from sklearn.metrics import pairwise_distances\n",
    "import torch\n",
    "from generator import Generator \n",
    "import torchvision.transforms.v2 as t\n",
    "import matplotlib.pyplot as plt"
   ]
  },
  {
   "cell_type": "code",
   "execution_count": 4,
   "metadata": {},
   "outputs": [
    {
     "data": {
      "text/plain": [
       "<All keys matched successfully>"
      ]
     },
     "execution_count": 4,
     "metadata": {},
     "output_type": "execute_result"
    }
   ],
   "source": [
    "device=torch.device('cpu')\n",
    "\n",
    "model=Generator().to(device=device)\n",
    "model.eval()\n",
    "model.load_state_dict(torch.load(\"models/abstract_art/resized/generator/unstable/generator325.pth\"))"
   ]
  },
  {
   "cell_type": "code",
   "execution_count": 7,
   "metadata": {},
   "outputs": [],
   "source": [
    "means=list()\n",
    "stds=list()\n",
    "for i in range(101): #test for 101 samples\n",
    "    z1=torch.randn((1,100)).to(device=device) #noise\n",
    "    vec1=model(z1)\n",
    "    vec1=vec1.to(device='cpu')\n",
    "    vec1=vec1.detach().numpy()\n",
    "\n",
    "    vec1=np.round((vec1+1)*255)//2\n",
    "    m1=np.mean(vec1)\n",
    "    s1=np.std(vec1)\n",
    "\n",
    "    means.append(m1)\n",
    "    stds.append(s1)\n",
    "\n"
   ]
  },
  {
   "cell_type": "code",
   "execution_count": 76,
   "metadata": {},
   "outputs": [
    {
     "data": {
      "text/plain": [
       "(123.68409, 40.81453)"
      ]
     },
     "execution_count": 76,
     "metadata": {},
     "output_type": "execute_result"
    }
   ],
   "source": [
    "#test statistics\n",
    "m=np.mean(np.array(means))\n",
    "s=np.mean(np.array(stds))\n",
    "m,s"
   ]
  },
  {
   "cell_type": "code",
   "execution_count": 77,
   "metadata": {},
   "outputs": [],
   "source": [
    "#compute test statistic\n",
    "s1_mean=125.07779  #s1 for epoch <250\n",
    "s1_std=31.979033\n",
    "\n",
    "s2_mean=123.68409 #s2 for epoch > 250\n",
    "s2_std=40.81453"
   ]
  },
  {
   "cell_type": "code",
   "execution_count": 78,
   "metadata": {},
   "outputs": [],
   "source": [
    "F=s2_std**2/s1_std**2"
   ]
  },
  {
   "cell_type": "code",
   "execution_count": 79,
   "metadata": {},
   "outputs": [
    {
     "data": {
      "text/plain": [
       "1.6289169601036961"
      ]
     },
     "execution_count": 79,
     "metadata": {},
     "output_type": "execute_result"
    }
   ],
   "source": [
    "F"
   ]
  }
 ],
 "metadata": {
  "kernelspec": {
   "display_name": ".venv",
   "language": "python",
   "name": "python3"
  },
  "language_info": {
   "codemirror_mode": {
    "name": "ipython",
    "version": 3
   },
   "file_extension": ".py",
   "mimetype": "text/x-python",
   "name": "python",
   "nbconvert_exporter": "python",
   "pygments_lexer": "ipython3",
   "version": "3.10.12"
  }
 },
 "nbformat": 4,
 "nbformat_minor": 2
}
